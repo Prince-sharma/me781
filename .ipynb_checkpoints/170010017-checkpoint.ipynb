{
 "cells": [
  {
   "cell_type": "code",
   "execution_count": 200,
   "metadata": {
    "collapsed": true
   },
   "outputs": [],
   "source": [
    "%matplotlib inline\n",
    "import numpy as np\n",
    "import pandas as pd\n",
    "import matplotlib.pyplot as plt\n",
    "from ipywidgets import interact\n",
    "from scipy.stats import norm\n",
    "from scipy.stats import t\n"
   ]
  },
  {
   "cell_type": "code",
   "execution_count": 201,
   "metadata": {},
   "outputs": [
    {
     "data": {
      "text/html": [
       "<div>\n",
       "<style>\n",
       "    .dataframe thead tr:only-child th {\n",
       "        text-align: right;\n",
       "    }\n",
       "\n",
       "    .dataframe thead th {\n",
       "        text-align: left;\n",
       "    }\n",
       "\n",
       "    .dataframe tbody tr th {\n",
       "        vertical-align: top;\n",
       "    }\n",
       "</style>\n",
       "<table border=\"1\" class=\"dataframe\">\n",
       "  <thead>\n",
       "    <tr style=\"text-align: right;\">\n",
       "      <th></th>\n",
       "      <th>region</th>\n",
       "      <th>roll_number</th>\n",
       "      <th>name</th>\n",
       "      <th>sl</th>\n",
       "      <th>fl</th>\n",
       "      <th>math</th>\n",
       "      <th>sci</th>\n",
       "      <th>ss</th>\n",
       "      <th>total</th>\n",
       "      <th>pass</th>\n",
       "      <th>withheld</th>\n",
       "      <th>extra</th>\n",
       "    </tr>\n",
       "  </thead>\n",
       "  <tbody>\n",
       "    <tr>\n",
       "      <th>0</th>\n",
       "      <td>A</td>\n",
       "      <td>10001</td>\n",
       "      <td>DISMA J SURUTHY</td>\n",
       "      <td>53.0</td>\n",
       "      <td>36.0</td>\n",
       "      <td>28.0</td>\n",
       "      <td>16.0</td>\n",
       "      <td>44.0</td>\n",
       "      <td>177.0</td>\n",
       "      <td>NaN</td>\n",
       "      <td>NaN</td>\n",
       "      <td>NaN</td>\n",
       "    </tr>\n",
       "    <tr>\n",
       "      <th>1</th>\n",
       "      <td>A</td>\n",
       "      <td>10002</td>\n",
       "      <td>PARVIN M</td>\n",
       "      <td>58.0</td>\n",
       "      <td>37.0</td>\n",
       "      <td>42.0</td>\n",
       "      <td>35.0</td>\n",
       "      <td>40.0</td>\n",
       "      <td>212.0</td>\n",
       "      <td>P</td>\n",
       "      <td>NaN</td>\n",
       "      <td>NaN</td>\n",
       "    </tr>\n",
       "    <tr>\n",
       "      <th>2</th>\n",
       "      <td>A</td>\n",
       "      <td>10003</td>\n",
       "      <td>MANIKANDAN M</td>\n",
       "      <td>72.0</td>\n",
       "      <td>56.0</td>\n",
       "      <td>71.0</td>\n",
       "      <td>55.0</td>\n",
       "      <td>70.0</td>\n",
       "      <td>324.0</td>\n",
       "      <td>P</td>\n",
       "      <td>NaN</td>\n",
       "      <td>NaN</td>\n",
       "    </tr>\n",
       "    <tr>\n",
       "      <th>3</th>\n",
       "      <td>A</td>\n",
       "      <td>10004</td>\n",
       "      <td>PRABU R</td>\n",
       "      <td>87.0</td>\n",
       "      <td>64.0</td>\n",
       "      <td>83.0</td>\n",
       "      <td>58.0</td>\n",
       "      <td>65.0</td>\n",
       "      <td>357.0</td>\n",
       "      <td>P</td>\n",
       "      <td>NaN</td>\n",
       "      <td>NaN</td>\n",
       "    </tr>\n",
       "    <tr>\n",
       "      <th>4</th>\n",
       "      <td>A</td>\n",
       "      <td>10005</td>\n",
       "      <td>ARUNRAJ K</td>\n",
       "      <td>59.0</td>\n",
       "      <td>45.0</td>\n",
       "      <td>50.0</td>\n",
       "      <td>35.0</td>\n",
       "      <td>48.0</td>\n",
       "      <td>237.0</td>\n",
       "      <td>P</td>\n",
       "      <td>NaN</td>\n",
       "      <td>NaN</td>\n",
       "    </tr>\n",
       "  </tbody>\n",
       "</table>\n",
       "</div>"
      ],
      "text/plain": [
       "  region  roll_number             name    sl    fl  math   sci    ss  total  \\\n",
       "0      A        10001  DISMA J SURUTHY  53.0  36.0  28.0  16.0  44.0  177.0   \n",
       "1      A        10002         PARVIN M  58.0  37.0  42.0  35.0  40.0  212.0   \n",
       "2      A        10003     MANIKANDAN M  72.0  56.0  71.0  55.0  70.0  324.0   \n",
       "3      A        10004          PRABU R  87.0  64.0  83.0  58.0  65.0  357.0   \n",
       "4      A        10005        ARUNRAJ K  59.0  45.0  50.0  35.0  48.0  237.0   \n",
       "\n",
       "  pass withheld  extra  \n",
       "0  NaN      NaN    NaN  \n",
       "1    P      NaN    NaN  \n",
       "2    P      NaN    NaN  \n",
       "3    P      NaN    NaN  \n",
       "4    P      NaN    NaN  "
      ]
     },
     "execution_count": 201,
     "metadata": {},
     "output_type": "execute_result"
    }
   ],
   "source": [
    "df = pd.read_csv('sslc1.csv', sep=';',na_values='AA')\n",
    "df.head()"
   ]
  },
  {
   "cell_type": "code",
   "execution_count": 202,
   "metadata": {},
   "outputs": [
    {
     "data": {
      "text/html": [
       "<div>\n",
       "<style>\n",
       "    .dataframe thead tr:only-child th {\n",
       "        text-align: right;\n",
       "    }\n",
       "\n",
       "    .dataframe thead th {\n",
       "        text-align: left;\n",
       "    }\n",
       "\n",
       "    .dataframe tbody tr th {\n",
       "        vertical-align: top;\n",
       "    }\n",
       "</style>\n",
       "<table border=\"1\" class=\"dataframe\">\n",
       "  <thead>\n",
       "    <tr style=\"text-align: right;\">\n",
       "      <th></th>\n",
       "      <th>roll_number</th>\n",
       "      <th>sl</th>\n",
       "      <th>fl</th>\n",
       "      <th>math</th>\n",
       "      <th>sci</th>\n",
       "      <th>ss</th>\n",
       "      <th>total</th>\n",
       "      <th>extra</th>\n",
       "    </tr>\n",
       "  </thead>\n",
       "  <tbody>\n",
       "    <tr>\n",
       "      <th>count</th>\n",
       "      <td>185667.000000</td>\n",
       "      <td>185642.000000</td>\n",
       "      <td>185532.000000</td>\n",
       "      <td>185624.000000</td>\n",
       "      <td>185615.000000</td>\n",
       "      <td>185615.000000</td>\n",
       "      <td>185666.000000</td>\n",
       "      <td>0.0</td>\n",
       "    </tr>\n",
       "    <tr>\n",
       "      <th>mean</th>\n",
       "      <td>105014.949043</td>\n",
       "      <td>73.564430</td>\n",
       "      <td>53.837435</td>\n",
       "      <td>62.847983</td>\n",
       "      <td>50.712265</td>\n",
       "      <td>63.188266</td>\n",
       "      <td>304.056510</td>\n",
       "      <td>NaN</td>\n",
       "    </tr>\n",
       "    <tr>\n",
       "      <th>std</th>\n",
       "      <td>54921.152696</td>\n",
       "      <td>14.124606</td>\n",
       "      <td>15.337772</td>\n",
       "      <td>23.483041</td>\n",
       "      <td>20.049138</td>\n",
       "      <td>16.915145</td>\n",
       "      <td>80.572719</td>\n",
       "      <td>NaN</td>\n",
       "    </tr>\n",
       "    <tr>\n",
       "      <th>min</th>\n",
       "      <td>10001.000000</td>\n",
       "      <td>4.000000</td>\n",
       "      <td>4.000000</td>\n",
       "      <td>1.000000</td>\n",
       "      <td>2.000000</td>\n",
       "      <td>3.000000</td>\n",
       "      <td>0.000000</td>\n",
       "      <td>NaN</td>\n",
       "    </tr>\n",
       "    <tr>\n",
       "      <th>25%</th>\n",
       "      <td>57314.500000</td>\n",
       "      <td>65.000000</td>\n",
       "      <td>43.000000</td>\n",
       "      <td>43.000000</td>\n",
       "      <td>35.000000</td>\n",
       "      <td>51.000000</td>\n",
       "      <td>246.000000</td>\n",
       "      <td>NaN</td>\n",
       "    </tr>\n",
       "    <tr>\n",
       "      <th>50%</th>\n",
       "      <td>105291.000000</td>\n",
       "      <td>76.000000</td>\n",
       "      <td>53.000000</td>\n",
       "      <td>62.000000</td>\n",
       "      <td>49.000000</td>\n",
       "      <td>64.000000</td>\n",
       "      <td>302.000000</td>\n",
       "      <td>NaN</td>\n",
       "    </tr>\n",
       "    <tr>\n",
       "      <th>75%</th>\n",
       "      <td>152581.500000</td>\n",
       "      <td>85.000000</td>\n",
       "      <td>65.000000</td>\n",
       "      <td>84.000000</td>\n",
       "      <td>65.000000</td>\n",
       "      <td>76.000000</td>\n",
       "      <td>366.000000</td>\n",
       "      <td>NaN</td>\n",
       "    </tr>\n",
       "    <tr>\n",
       "      <th>max</th>\n",
       "      <td>199999.000000</td>\n",
       "      <td>98.000000</td>\n",
       "      <td>97.000000</td>\n",
       "      <td>100.000000</td>\n",
       "      <td>100.000000</td>\n",
       "      <td>100.000000</td>\n",
       "      <td>488.000000</td>\n",
       "      <td>NaN</td>\n",
       "    </tr>\n",
       "  </tbody>\n",
       "</table>\n",
       "</div>"
      ],
      "text/plain": [
       "         roll_number             sl             fl           math  \\\n",
       "count  185667.000000  185642.000000  185532.000000  185624.000000   \n",
       "mean   105014.949043      73.564430      53.837435      62.847983   \n",
       "std     54921.152696      14.124606      15.337772      23.483041   \n",
       "min     10001.000000       4.000000       4.000000       1.000000   \n",
       "25%     57314.500000      65.000000      43.000000      43.000000   \n",
       "50%    105291.000000      76.000000      53.000000      62.000000   \n",
       "75%    152581.500000      85.000000      65.000000      84.000000   \n",
       "max    199999.000000      98.000000      97.000000     100.000000   \n",
       "\n",
       "                 sci             ss          total  extra  \n",
       "count  185615.000000  185615.000000  185666.000000    0.0  \n",
       "mean       50.712265      63.188266     304.056510    NaN  \n",
       "std        20.049138      16.915145      80.572719    NaN  \n",
       "min         2.000000       3.000000       0.000000    NaN  \n",
       "25%        35.000000      51.000000     246.000000    NaN  \n",
       "50%        49.000000      64.000000     302.000000    NaN  \n",
       "75%        65.000000      76.000000     366.000000    NaN  \n",
       "max       100.000000     100.000000     488.000000    NaN  "
      ]
     },
     "execution_count": 202,
     "metadata": {},
     "output_type": "execute_result"
    }
   ],
   "source": [
    "df.describe()"
   ]
  },
  {
   "cell_type": "code",
   "execution_count": 203,
   "metadata": {},
   "outputs": [
    {
     "data": {
      "text/plain": [
       "<matplotlib.axes._subplots.AxesSubplot at 0x7fd0a0275e80>"
      ]
     },
     "execution_count": 203,
     "metadata": {},
     "output_type": "execute_result"
    },
    {
     "data": {
      "image/png": "[encoded data removed]",
      "text/plain": [
       "<matplotlib.figure.Figure at 0x7fd09f1670f0>"
      ]
     },
     "metadata": {},
     "output_type": "display_data"
    }
   ],
   "source": [
    "plt.figure(figsize=(16,8))\n",
    "# plot chart\n",
    "ax1 = plt.subplot(121, aspect='equal')\n",
    "df['region'].value_counts().plot.pie( ax=ax1, autopct='%1.1f%%', startangle=90, shadow=False, legend = True, fontsize=14)"
   ]
  },
  {
   "cell_type": "code",
   "execution_count": 204,
   "metadata": {},
   "outputs": [],
   "source": [
    "def box_plot(region):\n",
    "    df1 = df.copy()\n",
    "    del df1['total']\n",
    "    del df1['pass']\n",
    "    del df1['withheld']\n",
    "    del df1['extra']\n",
    "    del df1['roll_number']\n",
    "    del df1['name']\n",
    "    if region != 'ALL':\n",
    "        df2 = df1[df1['region']==region]\n",
    "        df2.boxplot()\n",
    "    else :\n",
    "        df1.boxplot()\n",
    "    plt.show()\n",
    "    "
   ]
  },
  {
   "cell_type": "code",
   "execution_count": 205,
   "metadata": {},
   "outputs": [
    {
     "data": {
      "application/vnd.jupyter.widget-view+json": {
       "model_id": "256ecf35d4d1470bbd3dcf0e25d5b4df"
      }
     },
     "metadata": {},
     "output_type": "display_data"
    },
    {
     "data": {
      "text/plain": [
       "<function __main__.box_plot>"
      ]
     },
     "execution_count": 205,
     "metadata": {},
     "output_type": "execute_result"
    }
   ],
   "source": [
    "interact(box_plot , region = ['A', 'B'  ,'C', 'D' ,'E' ,'F','ALL'])  "
   ]
  },
  {
   "cell_type": "code",
   "execution_count": 206,
   "metadata": {},
   "outputs": [
    {
     "data": {
      "image/png": "[encoded data removed]",
      "text/plain": [
       "<matplotlib.figure.Figure at 0x7fd09fa7c588>"
      ]
     },
     "metadata": {},
     "output_type": "display_data"
    }
   ],
   "source": [
    "df1=df[df['pass']=='P']\n",
    "ax1 = plt.subplot(111, aspect='equal')\n",
    "df1['region'].value_counts().plot.pie(autopct = '%1.1f%%' , ax = ax1 )\n",
    "plt.show()"
   ]
  },
  {
   "cell_type": "code",
   "execution_count": 207,
   "metadata": {},
   "outputs": [],
   "source": [
    "def corr_func(a , b):\n",
    "    df.plot.scatter(x=a, y=b);\n",
    "    plt.show()\n",
    "    return print('correlation coefficient=',df[a].corr(df[b]))\n"
   ]
  },
  {
   "cell_type": "code",
   "execution_count": 208,
   "metadata": {},
   "outputs": [
    {
     "data": {
      "application/vnd.jupyter.widget-view+json": {
       "model_id": "19eb571203744692b4edde3d8d4efa8f"
      }
     },
     "metadata": {},
     "output_type": "display_data"
    },
    {
     "data": {
      "text/plain": [
       "<function __main__.corr_func>"
      ]
     },
     "execution_count": 208,
     "metadata": {},
     "output_type": "execute_result"
    }
   ],
   "source": [
    "interact(corr_func, a= ['fl' , 'sl' ,'math' , 'sci' , 'ss'] , b = [  'sl' ,'math' , 'sci' , 'ss','fl'])"
   ]
  },
  {
   "cell_type": "markdown",
   "metadata": {},
   "source": [
    "## Assuming that standard deviation of the original data set(i.e of all the regions) is known \n",
    "### we use standard  normal  to determine the confidence ratio"
   ]
  },
  {
   "cell_type": "code",
   "execution_count": 209,
   "metadata": {},
   "outputs": [],
   "source": [
    "df2=df[df['region']=='C']\n",
    "df2=df2['math']\n",
    "sample_mean = df2.mean()\n",
    "sample_stnd = df2.std()\n",
    "original_standard_deveation = df['math'].std()                        \n",
    "n = len(df2)                          "
   ]
  },
  {
   "cell_type": "code",
   "execution_count": 210,
   "metadata": {},
   "outputs": [
    {
     "name": "stdout",
     "output_type": "stream",
     "text": [
      "95% confidence interval= ( 62.4732561286 , 62.9938882824 )\n"
     ]
    }
   ],
   "source": [
    "rv1= norm (loc =0 , scale= 1)\n",
    "\n",
    "min = rv1.ppf(0.025)          \n",
    "max = rv1.ppf(0.975) \n",
    "\n",
    "\n",
    "a=(min*original_standard_deveation)/np.sqrt(n)\n",
    "b=(max*original_standard_deveation)/np.sqrt(n)\n",
    "\n",
    "print('95% confidence interval=','(',sample_mean+a,',',sample_mean+b,')')\n",
    "    \n",
    "    \n",
    "    "
   ]
  },
  {
   "cell_type": "markdown",
   "metadata": {},
   "source": [
    "##  now if we don't know either the true mean nor the true standard deviation\n",
    "\n",
    "###  we use t distribution "
   ]
  },
  {
   "cell_type": "code",
   "execution_count": 211,
   "metadata": {},
   "outputs": [
    {
     "name": "stdout",
     "output_type": "stream",
     "text": [
      "95% confidence interval= ( 62.473075288 , 62.994069123 )\n"
     ]
    }
   ],
   "source": [
    "from scipy.stats import t\n",
    "rv2= t (n-1)\n",
    "\n",
    "\n",
    "min = rv2.ppf(0.025)          \n",
    "max = rv2.ppf(0.975) \n",
    "\n",
    "\n",
    "a=(min*sample_stnd)/np.sqrt(n)\n",
    "b=(max*sample_stnd)/np.sqrt(n)\n",
    "\n",
    "print('95% confidence interval=','(',sample_mean+a,',',sample_mean+b,')')\n",
    "    \n",
    "    \n",
    "    "
   ]
  },
  {
   "cell_type": "code",
   "execution_count": 212,
   "metadata": {
    "collapsed": true
   },
   "outputs": [],
   "source": [
    "def a_pecentile(x):\n",
    "    b = []\n",
    "    for i in range(1000):\n",
    "        a = df2.sample(2000, replace=True)       \n",
    "        b.append(a.mean())\n",
    "    print(np.percentile(b,x))\n",
    "\n",
    "    "
   ]
  },
  {
   "cell_type": "code",
   "execution_count": 213,
   "metadata": {},
   "outputs": [
    {
     "name": "stdout",
     "output_type": "stream",
     "text": [
      "61.6832125\n",
      "63.7906103177\n"
     ]
    }
   ],
   "source": [
    "a_pecentile(2.5)\n",
    "a_pecentile(97.5)"
   ]
  },
  {
   "cell_type": "code",
   "execution_count": null,
   "metadata": {
    "collapsed": true
   },
   "outputs": [],
   "source": []
  }
 ],
 "metadata": {
  "kernelspec": {
   "display_name": "Python 3",
   "language": "python",
   "name": "python3"
  },
  "language_info": {
   "codemirror_mode": {
    "name": "ipython",
    "version": 3
   },
   "file_extension": ".py",
   "mimetype": "text/x-python",
   "name": "python",
   "nbconvert_exporter": "python",
   "pygments_lexer": "ipython3",
   "version": "3.6.9"
  }
 },
 "nbformat": 4,
 "nbformat_minor": 2
}
